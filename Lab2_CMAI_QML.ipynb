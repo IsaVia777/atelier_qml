{
 "cells": [
  {
   "cell_type": "code",
   "execution_count": null,
   "metadata": {},
   "outputs": [],
   "source": [
    "!pip install qiskit=1.4.2\n",
    "!pip install qiskit_aer\n",
    "!pip install qiskit_machine_learning\n",
    "!pip install qiskit_algorithms\n",
    "!pip install matplotlib\n",
    "!pip install pylatexenc\n",
    "!pip install scipy\n",
    "!pip install -U scikit-learn\n",
    "\n",
    "!git clone https://github.com/IsaVia777/atelier_qml.git"
   ]
  },
  {
   "cell_type": "markdown",
   "metadata": {},
   "source": [
    "# Lab 2: Data embedding"
   ]
  },
  {
   "cell_type": "code",
   "execution_count": null,
   "metadata": {},
   "outputs": [],
   "source": [
    "import numpy as np \n",
    "import matplotlib.pyplot as plt\n",
    "import os \n",
    "import sys\n",
    "\n",
    "from qiskit_aer import Aer\n",
    "from qiskit.circuit import Parameter\n",
    "from qiskit.circuit.library import ZFeatureMap, ZZFeatureMap, PauliFeatureMap\n",
    "from qiskit.quantum_info import Statevector\n",
    "from qiskit_machine_learning.circuit.library import RawFeatureVector\n",
    "\n",
    "SEED = 8398"
   ]
  },
  {
   "cell_type": "code",
   "execution_count": null,
   "metadata": {},
   "outputs": [],
   "source": [
    "import sys\n",
    "sys.path.insert(0, '/content/atelier_qml')\n",
    "\n",
    "from utils import *"
   ]
  },
  {
   "cell_type": "code",
   "execution_count": null,
   "metadata": {},
   "outputs": [],
   "source": [
    "# We will be using simulators in this lab\n",
    "qasm_sim = Aer.get_backend('qasm_simulator')\n",
    "sv_sim = Aer.get_backend('statevector_simulator')"
   ]
  },
  {
   "cell_type": "markdown",
   "metadata": {},
   "source": [
    "### Non linearly separable 1D Database "
   ]
  },
  {
   "cell_type": "code",
   "execution_count": null,
   "metadata": {},
   "outputs": [],
   "source": [
    "x0,x1 = get_non_seperable_data()\n",
    "nb_features = 1"
   ]
  },
  {
   "cell_type": "code",
   "execution_count": null,
   "metadata": {},
   "outputs": [],
   "source": [
    "# Let's see what our dataset look like. Label 0 in blue, label 1 in red\n",
    "plt.yticks([])\n",
    "plt.scatter(x0, [0]*len(x0), color='blue')\n",
    "plt.scatter(x1, [0]*len(x1), color='red')"
   ]
  },
  {
   "cell_type": "markdown",
   "metadata": {},
   "source": [
    "As we can see, no straight line can separate the *blue* datapoints from the *red* ones.<br>\n",
    "We say that the data is not *linearly separable*.<br>\n",
    "Let's explore the idea of data embedding and quantum feature maps to make this data seperable in a different space!"
   ]
  },
  {
   "cell_type": "markdown",
   "metadata": {
    "tags": []
   },
   "source": [
    "## Data embedding\n",
    "\n",
    "We can embedd classical data into quantum states by using a **quantum feature map** $\\phi(\\mathbf{x})$. The data is then in a new higher dimensional space. Different feauture maps exist, and we will see a few below.\n",
    "\n",
    " As always, the qubits are initialized in the zero state $|0\\rangle$. The first layer of circuits in QML will be this data embedding layer."
   ]
  },
  {
   "cell_type": "markdown",
   "metadata": {},
   "source": [
    "### Angle embedding\n",
    "\n",
    "We need to define a parametrized circuit. Its parameters will be used to load the data in the quantum circuit."
   ]
  },
  {
   "cell_type": "code",
   "execution_count": null,
   "metadata": {},
   "outputs": [],
   "source": [
    "# Create a list of `Parameter`. Since the data points have only one feature\n",
    "# there will be only one parameter in this list.\n",
    "x_params = [Parameter(f'x{str(i)}') for i in range(nb_features)]\n",
    "\n",
    "# Instanciate a quantum circuit\n",
    "qc = QuantumCircuit(nb_features)\n",
    "\n",
    "\n",
    "for i in range(1):\n",
    "    # Data encoding using the rotation RX\n",
    "    qc.rx(x_params[i], i)\n",
    "\n",
    "qc.draw('mpl')"
   ]
  },
  {
   "cell_type": "code",
   "execution_count": null,
   "metadata": {},
   "outputs": [],
   "source": [
    "# Obtain the state vector corresponding to each points in the dataset\n",
    "statevectors0 = get_statevector(qc, x0, x_params, sv_sim)\n",
    "statevectors1 = get_statevector(qc, x1, x_params, sv_sim)\n",
    "\n",
    "# Visualization of the dataset on the BLoch sphere\n",
    "plot_bloch_visualization([statevectors0, statevectors1], ['b', 'r'])"
   ]
  },
  {
   "cell_type": "markdown",
   "metadata": {},
   "source": [
    "### Angle data embedding of the Iris dataset"
   ]
  },
  {
   "cell_type": "code",
   "execution_count": null,
   "metadata": {},
   "outputs": [],
   "source": [
    "x_train,y_train,x_test,y_test = get_iris(SEED)\n",
    "nb_features = 4\n",
    "x_train[0]"
   ]
  },
  {
   "cell_type": "markdown",
   "metadata": {},
   "source": [
    "Let's define a function which takes in a quantum circuit and a feature vector, and embeds this feature vector with **angle embedding**."
   ]
  },
  {
   "cell_type": "code",
   "execution_count": null,
   "metadata": {},
   "outputs": [],
   "source": [
    "def angle_embedding(qc,feature_vec):  \n",
    "    \n",
    "    \"\"\"\n",
    "    Qubit - or rotation - encoding in RX gates.\n",
    "\n",
    "    :param qc: The quantum circuit.\n",
    "    :param feature_vec: The feature vector parametrizing the RX gates.\n",
    "                        The number of qubit in the circuit should be equal to the number\n",
    "                        of feature in the input vector. \n",
    "    :return: The quantum circuit with the embedding layer. \n",
    "    \"\"\"\n",
    "    if qc.num_qubits != len(feature_vec):\n",
    "        raise ValueError('Number of features must match number of qubits')\n",
    "\n",
    "    for i in range(qc.num_qubits):\n",
    "        qc.rx(feature_vec[i], i)\n",
    "\n",
    "    return qc\n",
    "    "
   ]
  },
  {
   "cell_type": "markdown",
   "metadata": {},
   "source": [
    "Let's start by embedding a single feature vector into a quantum state"
   ]
  },
  {
   "cell_type": "code",
   "execution_count": null,
   "metadata": {},
   "outputs": [],
   "source": [
    "print('Features for the first datapoint:', x_train[0])\n",
    "\n",
    "nb_qubits = nb_features\n",
    "qc = QuantumCircuit(nb_qubits)\n",
    "\n",
    "# Add the data embedding layer\n",
    "qc = angle_embedding(qc, x_train[0])\n",
    "\n",
    "qc.draw(\"mpl\")"
   ]
  },
  {
   "cell_type": "markdown",
   "metadata": {},
   "source": [
    "We can see that the values of the feauture vector are now the angles of rotations in the x axis. "
   ]
  },
  {
   "cell_type": "markdown",
   "metadata": {},
   "source": [
    "### Amplitude embedding\n",
    "\n",
    "Let's encode this particular state:\n",
    "\n",
    "($\\frac{1}{\\sqrt{2}}$, 0, 0, $\\frac{1}{\\sqrt{2}}$)"
   ]
  },
  {
   "cell_type": "code",
   "execution_count": null,
   "metadata": {},
   "outputs": [],
   "source": [
    "qc = QuantumCircuit(2)\n",
    "qc.h(0)\n",
    "qc.cx(0,1)\n",
    "qc.draw('mpl')"
   ]
  },
  {
   "cell_type": "markdown",
   "metadata": {},
   "source": [
    "Notice that this circuit creates a Bell pair!"
   ]
  },
  {
   "cell_type": "markdown",
   "metadata": {},
   "source": [
    "Amplitude embedding uses no specific gates, it depends on the data vector.<br>\n",
    "In some cases, like the one above, creating the correct circuit is trivial.<br>\n",
    "In most cases though,it is not obvious which circuit represents the quantum state in question.\n",
    "\n",
    "Fortunately, Qiskit can help us with this! The __[RawFeatureVector class](https://qiskit.org/documentation/machine-learning/stubs/qiskit_machine_learning.circuit.library.RawFeatureVector.html)__ loads the data into qubit amplitudes automatically. Let's try it out\n",
    "\n"
   ]
  },
  {
   "cell_type": "code",
   "execution_count": null,
   "metadata": {},
   "outputs": [],
   "source": [
    "qc = RawFeatureVector(nb_features) \n",
    "qc.draw('mpl')"
   ]
  },
  {
   "cell_type": "code",
   "execution_count": null,
   "metadata": {},
   "outputs": [],
   "source": [
    "qc = qc.assign_parameters(x_train[0]) \n",
    "print(x_train[0])\n",
    "qc.decompose().decompose().decompose().decompose().decompose().decompose().draw('mpl')"
   ]
  },
  {
   "cell_type": "code",
   "execution_count": null,
   "metadata": {},
   "outputs": [],
   "source": [
    "# The quantum circuit gives the right state!\n",
    "Statevector.from_instruction(qc)"
   ]
  },
  {
   "cell_type": "markdown",
   "metadata": {},
   "source": [
    "### Quantum feature maps with Qiskit\n",
    "\n"
   ]
  },
  {
   "cell_type": "markdown",
   "metadata": {},
   "source": [
    "\n",
    "Qiskit also offers different feature maps: `ZFeatureMap`, the `ZZFeatureMap` and the `PauliFeatureMap`.<br>\n",
    "We can draw each of these to see what exactly they do."
   ]
  },
  {
   "cell_type": "code",
   "execution_count": null,
   "metadata": {},
   "outputs": [],
   "source": [
    "map_z = ZFeatureMap(feature_dimension=nb_features, reps = 2)\n",
    "map_z.decompose().draw('mpl', scale = 1.5)"
   ]
  },
  {
   "cell_type": "markdown",
   "metadata": {},
   "source": [
    "The [P gate](https://qiskit.org/documentation/stubs/qiskit.circuit.library.PhaseGate.html) is a phase gate. "
   ]
  },
  {
   "cell_type": "code",
   "execution_count": null,
   "metadata": {},
   "outputs": [],
   "source": [
    "map_pauli = PauliFeatureMap(feature_dimension=4, reps=1, entanglement = 'linear')\n",
    "map_pauli.decompose().draw('mpl')"
   ]
  },
  {
   "cell_type": "code",
   "execution_count": null,
   "metadata": {},
   "outputs": [],
   "source": [
    "encode_circuit = map_pauli.assign_parameters(x_train[0])\n",
    "encode_circuit.decompose().draw('mpl')"
   ]
  },
  {
   "cell_type": "markdown",
   "metadata": {},
   "source": [
    "## Exercise 2: \n",
    "Embed the classical data point x = (-5, 4.5, 0.2, 1) using the ZZFeatureMap. "
   ]
  },
  {
   "cell_type": "code",
   "execution_count": null,
   "metadata": {},
   "outputs": [],
   "source": [
    "##Your code here##\n",
    "\n",
    "x = None\n",
    "\n",
    "zz_circuit = ZZFeatureMap()\n",
    "\n",
    "zz_circuit.decompose().draw('mpl')"
   ]
  }
 ],
 "metadata": {
  "interpreter": {
   "hash": "be46e78d3dcbab919e7701c4870aab0f97ee500a54e0a329b7d84d45296915d8"
  },
  "kernelspec": {
   "display_name": "Python 3",
   "language": "python",
   "name": "python3"
  },
  "language_info": {
   "codemirror_mode": {
    "name": "ipython",
    "version": 3
   },
   "file_extension": ".py",
   "mimetype": "text/x-python",
   "name": "python",
   "nbconvert_exporter": "python",
   "pygments_lexer": "ipython3",
   "version": "3.8.5"
  },
  "widgets": {
   "application/vnd.jupyter.widget-state+json": {
    "state": {},
    "version_major": 2,
    "version_minor": 0
   }
  }
 },
 "nbformat": 4,
 "nbformat_minor": 4
}
