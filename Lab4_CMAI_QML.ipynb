{
 "cells": [
  {
   "cell_type": "code",
   "execution_count": null,
   "metadata": {},
   "outputs": [],
   "source": [
    "!pip install qiskit==1.4.2\n",
    "!pip install qiskit_aer\n",
    "!pip install qiskit_machine_learning\n",
    "!pip install qiskit_algorithms\n",
    "!pip install matplotlib\n",
    "!pip install pylatexenc\n",
    "!pip install scipy\n",
    "!pip install -U scikit-learn\n",
    "\n",
    "!git clone https://github.com/IsaVia777/atelier_qml.git"
   ]
  },
  {
   "cell_type": "code",
   "execution_count": null,
   "metadata": {},
   "outputs": [],
   "source": [
    "import matplotlib.pyplot as plt\n",
    "import numpy as np\n",
    "import os\n",
    "import sys \n",
    "\n",
    "from qiskit import QuantumCircuit\n",
    "from qiskit_aer import Aer\n",
    "from qiskit_machine_learning.optimizers import COBYLA, SPSA\n",
    "from qiskit.circuit import Parameter\n",
    "from qiskit.circuit.library import ZZFeatureMap, TwoLocal, ZFeatureMap\n",
    "from qiskit_machine_learning.algorithms.classifiers import NeuralNetworkClassifier\n",
    "from qiskit_machine_learning.neural_networks import SamplerQNN\n",
    "from qiskit_machine_learning.circuit.library import QNNCircuit\n",
    "\n",
    "SEED = 8398"
   ]
  },
  {
   "cell_type": "code",
   "execution_count": null,
   "metadata": {},
   "outputs": [],
   "source": [
    "import sys\n",
    "sys.path.insert(0, '/content/atelier_qml')\n",
    "\n",
    "from utils import *"
   ]
  },
  {
   "cell_type": "markdown",
   "metadata": {},
   "source": [
    "# Lab 4: Training a quantum classifier\n",
    "\n",
    "**Objectives**\n",
    "- Building a parametrized circuit \n",
    "- Angle embedding\n",
    "- Variational quantum circuit (ansatz)  \n",
    "- Classification of the Iris dataset\n"
   ]
  },
  {
   "cell_type": "code",
   "execution_count": null,
   "metadata": {},
   "outputs": [],
   "source": [
    "x_train,y_train,x_test,y_test = get_iris(SEED)\n",
    "nb_features = 4\n",
    "nb_classes = 2"
   ]
  },
  {
   "cell_type": "markdown",
   "metadata": {},
   "source": [
    "# Building a quantum classifier\n",
    "\n",
    "## Step 1:  Parametrized quantum circuit\n",
    "\n",
    "This parametrized quantum circuit is composed of two elements: \n",
    "\n",
    "* An embedding circuit \n",
    "* A circuit to learn the measurement basis\n",
    "\n",
    "As always, the qubits are initialized in the zero state $|0\\rangle$. The first circuit of a QML model will be the data embedding circuit. "
   ]
  },
  {
   "cell_type": "code",
   "execution_count": null,
   "metadata": {},
   "outputs": [],
   "source": [
    "# Data embedding circuit\n",
    "x_params = [Parameter(f'x{str(i)}') for i in range(nb_features)]    \n",
    "emb_circuit = angle_embedding(x_params,nb_features)\n",
    "\n",
    "# Circuit to learn the measurement basis\n",
    "ansatz = TwoLocal(nb_features, ['rz', 'rx'], 'cx', 'linear', reps=2, parameter_prefix='w')\n",
    "\n",
    "qc = emb_circuit.compose(ansatz)\n",
    "qc.draw('mpl')\n"
   ]
  },
  {
   "cell_type": "code",
   "execution_count": null,
   "metadata": {},
   "outputs": [],
   "source": [
    "qc.decompose().draw('mpl')"
   ]
  },
  {
   "cell_type": "markdown",
   "metadata": {},
   "source": [
    "## Circuit QNN"
   ]
  },
  {
   "cell_type": "code",
   "execution_count": null,
   "metadata": {},
   "outputs": [],
   "source": [
    "# Random initialization of the weights\n",
    "np.random.seed(SEED)\n",
    "initial_weights = np.random.rand(ansatz.num_parameters) "
   ]
  },
  {
   "cell_type": "code",
   "execution_count": null,
   "metadata": {},
   "outputs": [],
   "source": [
    "# Interpretation function: parity \n",
    "# counts the nuumber of \"1\" in the bit string, x,\n",
    "# and returns 0 is the number is even, 1 if it is odd\n",
    "def parity(x):\n",
    "    return '{:b}'.format(x).count('1') % 2"
   ]
  },
  {
   "cell_type": "code",
   "execution_count": null,
   "metadata": {
    "tags": []
   },
   "outputs": [],
   "source": [
    "# Initialize the optimizer\n",
    "num_iter = 20\n",
    "optimizer = COBYLA(maxiter=num_iter)\n",
    "\n",
    "sampler_qnn = SamplerQNN(circuit=qc,  \n",
    "                         input_params=emb_circuit.parameters,\n",
    "                         weight_params=ansatz.parameters, \n",
    "                         interpret=parity, \n",
    "                         output_shape=nb_classes)"
   ]
  },
  {
   "cell_type": "code",
   "execution_count": null,
   "metadata": {},
   "outputs": [],
   "source": [
    "# The probability to be classified as belonging to class 0 or 1 for a given datapoint,\n",
    "# and a given parameter value , are obtained with the function `CircuitQNN.forward()`\n",
    "probs = sampler_qnn.forward(x_train[0], initial_weights)\n",
    "print(f\">\\n> Probability to belong in class 0: {probs[0][0]*100:.1f}%\\n> Probability to belong in class 1: {probs[0][1]*100:.1f}%\\n>\")"
   ]
  },
  {
   "cell_type": "markdown",
   "metadata": {},
   "source": [
    "## Training of the classifier with `Neural Network Classifier`"
   ]
  },
  {
   "cell_type": "code",
   "execution_count": null,
   "metadata": {},
   "outputs": [],
   "source": [
    "# Instantiate a `NeuralNetworkClassifier` to train our model and make inferences\n",
    "circuit_classifier = NeuralNetworkClassifier(neural_network=sampler_qnn,\n",
    "                                             optimizer=optimizer,\n",
    "                                             initial_point=initial_weights)\n",
    "#Training the model\n",
    "circuit_classifier.fit(x_train, y_train)"
   ]
  },
  {
   "cell_type": "code",
   "execution_count": null,
   "metadata": {},
   "outputs": [],
   "source": [
    "# Score on the train set\n",
    "train_acc = circuit_classifier.score(x_train, y_train)\n",
    "test_acc = circuit_classifier.score(x_test, y_test)\n",
    "\n",
    "print(f' > Train accuracy: {train_acc}\\n > Test accuracy: {test_acc}')"
   ]
  },
  {
   "cell_type": "markdown",
   "metadata": {},
   "source": [
    "# Exercise 4"
   ]
  },
  {
   "cell_type": "markdown",
   "metadata": {},
   "source": [
    "Can we do better?<br>\n",
    "\n",
    "Let's try using a more expressive feature map than angle embedding; for example, `ZZFeatureMap`."
   ]
  },
  {
   "cell_type": "code",
   "execution_count": null,
   "metadata": {},
   "outputs": [],
   "source": [
    "## Your code here\n",
    "feature_map = None\n",
    "##\n",
    "\n",
    "# We are using the same circuit to learn the measurement basis\n",
    "ansatz = TwoLocal(nb_features, ['rz', 'rx'], 'cx', 'linear', reps=2, parameter_prefix='w')\n",
    "\n",
    "qc = feature_map.compose(ansatz)\n",
    "qc.draw('mpl')"
   ]
  },
  {
   "cell_type": "code",
   "execution_count": null,
   "metadata": {},
   "outputs": [],
   "source": [
    "## Your code here\n",
    "\n",
    "circuit_qnn = SamplerQNN(circuit=qc,  \n",
    "                         input_params=None,  ## Put the list of parameters here!\n",
    "                         weight_params=ansatz.parameters, \n",
    "                         interpret=parity, \n",
    "                         output_shape=nb_classes)"
   ]
  },
  {
   "cell_type": "code",
   "execution_count": null,
   "metadata": {},
   "outputs": [],
   "source": [
    "# Instanciate the class used to train the quantum classifier\n",
    "circuit_classifier = NeuralNetworkClassifier(neural_network=circuit_qnn,\n",
    "                                             optimizer=optimizer,\n",
    "                                             initial_point=initial_weights)\n",
    "\n",
    "# Train the model\n",
    "circuit_classifier.fit(x_train, y_train)"
   ]
  },
  {
   "cell_type": "code",
   "execution_count": null,
   "metadata": {},
   "outputs": [],
   "source": [
    "# Compute model accuracy on the training and test datasets\n",
    "train_acc = circuit_classifier.score(x_train, y_train)\n",
    "test_acc = circuit_classifier.score(x_test, y_test)\n",
    "\n",
    "print(f\">\\n> Accuracy on the training set: {train_acc}\\n> Accuracy on the test set: {test_acc}\\n>\")"
   ]
  },
  {
   "cell_type": "markdown",
   "metadata": {},
   "source": [
    "You can also explore on your own, the effects of the following on your model's performance:\n",
    "* different feature map or data embedding\n",
    "* optimizer (number of iterations or switch optimizer for SPSA, for example)\n",
    "* measurement interpretation function"
   ]
  }
 ],
 "metadata": {
  "interpreter": {
   "hash": "be46e78d3dcbab919e7701c4870aab0f97ee500a54e0a329b7d84d45296915d8"
  },
  "kernelspec": {
   "display_name": "Python 3",
   "language": "python",
   "name": "python3"
  },
  "language_info": {
   "codemirror_mode": {
    "name": "ipython",
    "version": 3
   },
   "file_extension": ".py",
   "mimetype": "text/x-python",
   "name": "python",
   "nbconvert_exporter": "python",
   "pygments_lexer": "ipython3",
   "version": "3.8.5"
  },
  "metadata": {
   "interpreter": {
    "hash": "59177e5be93e8d2ad94a420b44a58c2ce1836dd25cb0312289bbea6026e0e98d"
   }
  },
  "widgets": {
   "application/vnd.jupyter.widget-state+json": {
    "state": {},
    "version_major": 2,
    "version_minor": 0
   }
  }
 },
 "nbformat": 4,
 "nbformat_minor": 4
}
