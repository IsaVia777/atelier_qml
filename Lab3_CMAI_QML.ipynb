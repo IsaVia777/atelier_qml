{
 "cells": [
  {
   "cell_type": "code",
   "execution_count": null,
   "metadata": {},
   "outputs": [],
   "source": [
    "!pip install qiskit==1.4.2\n",
    "!pip install qiskit_aer\n",
    "!pip install qiskit_machine_learning\n",
    "!pip install qiskit_algorithms\n",
    "!pip install matplotlib\n",
    "!pip install pylatexenc\n",
    "!pip install scipy\n",
    "!pip install -U scikit-learn\n",
    "\n",
    "!git clone https://github.com/IsaVia777/atelier_qml.git"
   ]
  },
  {
   "cell_type": "markdown",
   "metadata": {},
   "source": [
    "# Lab 3: Classification\n",
    "\n",
    "**Objectives**\n",
    "- Classify data in higher dimensional space using 1 qubit \n",
    "- Measurement along $X$,$Y$,$Z$ axis  "
   ]
  },
  {
   "cell_type": "code",
   "execution_count": null,
   "metadata": {},
   "outputs": [],
   "source": [
    "import matplotlib.pyplot as plt\n",
    "import numpy as np\n",
    "\n",
    "from qiskit import QuantumCircuit\n",
    "from qiskit_aer import Aer\n",
    "\n",
    "SEED = 8398"
   ]
  },
  {
   "cell_type": "code",
   "execution_count": null,
   "metadata": {},
   "outputs": [],
   "source": [
    "import sys\n",
    "sys.path.insert(0, '/content/atelier_qml')\n",
    "\n",
    "from utils import *"
   ]
  },
  {
   "cell_type": "code",
   "execution_count": null,
   "metadata": {},
   "outputs": [],
   "source": [
    "qasm_sim = Aer.get_backend('qasm_simulator')\n",
    "sv_sim = Aer.get_backend('statevector_simulator')"
   ]
  },
  {
   "cell_type": "markdown",
   "metadata": {},
   "source": [
    "### 1D linearly separable dataset"
   ]
  },
  {
   "cell_type": "code",
   "execution_count": null,
   "metadata": {},
   "outputs": [],
   "source": [
    "x,y,x0,x1 = get_seperable_data()\n",
    "nb_features = 1\n",
    "\n",
    "# Let's see what our dataset look like. Label 0 in blue, label 1 in red\n",
    "plt.yticks([])\n",
    "plt.scatter(x0, [0]*len(x0), color='blue')\n",
    "plt.scatter(x1, [0]*len(x1), color='red')"
   ]
  },
  {
   "cell_type": "markdown",
   "metadata": {},
   "source": [
    "Embedding datapoints in the rotation angle about the X-axis"
   ]
  },
  {
   "cell_type": "code",
   "execution_count": null,
   "metadata": {},
   "outputs": [],
   "source": [
    "def angle_embedding(x_params,nb_features):\n",
    "       \n",
    "    \"\"\"\n",
    "    Qubit - or rotation - encoding in RX gates.\n",
    "\n",
    "    :param x_params: List of parameters to embed.\n",
    "    :param nb_features: The number of features of the feature vector. \n",
    "    :return: The quantum circuit with the embedding layer. \n",
    "    \"\"\"\n",
    "    \n",
    "    qc = QuantumCircuit(nb_features)\n",
    "\n",
    "    for i in range(nb_features):\n",
    "        qc.rx(x_params[i], i)\n",
    "\n",
    "    return qc \n"
   ]
  },
  {
   "cell_type": "code",
   "execution_count": null,
   "metadata": {},
   "outputs": [],
   "source": [
    "# Create a list of `Parameter`. Since the data points have only one feature\n",
    "# there will be only one parameter in this list.\n",
    "x_params = [Parameter(f'x{str(i)}') for i in range(nb_features)]\n",
    "\n",
    "# Create the parametrized embedding layer\n",
    "qc = angle_embedding(x_params, nb_features)\n",
    "\n",
    "qc.draw('mpl')"
   ]
  },
  {
   "cell_type": "code",
   "execution_count": null,
   "metadata": {},
   "outputs": [],
   "source": [
    "emb_circuit = qc.assign_parameters(x[0])\n",
    "\n",
    "print(f'Encoding for datapoint {x[0]}:')\n",
    "emb_circuit.draw('mpl')"
   ]
  },
  {
   "cell_type": "markdown",
   "metadata": {},
   "source": [
    "### Using angle embedding to map this data into a quantum feature space. "
   ]
  },
  {
   "cell_type": "code",
   "execution_count": null,
   "metadata": {},
   "outputs": [],
   "source": [
    "statevectors0 = get_statevector(qc, x0, x_params, sv_sim)\n",
    "statevectors1 = get_statevector(qc, x1, x_params, sv_sim)\n",
    "plot_bloch_visualization([statevectors0, statevectors1], ['b', 'r'])"
   ]
  },
  {
   "cell_type": "markdown",
   "metadata": {},
   "source": [
    "## Implementation of the classification algorithm\n",
    "![lab3.png](lab3.png)"
   ]
  },
  {
   "cell_type": "code",
   "execution_count": null,
   "metadata": {},
   "outputs": [],
   "source": [
    "shots = 1024\n",
    "\n",
    "\n",
    "def get_measurement_outcomes(data, emb_circuit, rot_circuit=None):\n",
    "    \"\"\"\n",
    "    Run the circuit of the binary quantum classifier for all the data vectors of a dataset.\n",
    "\n",
    "    :param data:        Dataset to classify\n",
    "    :param emb_circuit: Angle embedding circuit.\n",
    "    :param rot_circuit: Circuit defining the measurement basis.\n",
    "                        Defaults to the computational basis (Z)\n",
    "\n",
    "    :return: A list of measurement results, one per data vector in the dataset.\n",
    "    \"\"\"\n",
    "    # Add the circuit defining the measurement basis.\n",
    "    if rot_circuit != None:\n",
    "        emb_circuit = emb_circuit.compose(rot_circuit)\n",
    "\n",
    "    circuits = []\n",
    "    # For each datapoint in the dataset\n",
    "    for x_i in data:\n",
    "        x_params = emb_circuit.parameters\n",
    "        # Dictionary associating one data feature to one parameter in the circuit\n",
    "        x_params_dict = {p:v for (p,v) in zip(x_params, x_i)}\n",
    "        # Replace the circuit parameters by their associated values\n",
    "        gqc = emb_circuit.assign_parameters(x_params_dict)\n",
    "        # Ajouter la mesure de tous les qubits\n",
    "        # Add the measurement instruction for all qubits\n",
    "        gqc.measure_all()\n",
    "        circuits.append(gqc)\n",
    "\n",
    "    # Run the circuit \"N\" times (determined by the number of shots)\n",
    "    result = qasm_sim.run(circuits, shots=shots).result()\n",
    "    counts = result.get_counts()\n",
    "\n",
    "    return counts"
   ]
  },
  {
   "cell_type": "code",
   "execution_count": null,
   "metadata": {},
   "outputs": [],
   "source": [
    "counts = get_measurement_outcomes(x, qc)\n",
    "counts"
   ]
  },
  {
   "cell_type": "code",
   "execution_count": null,
   "metadata": {},
   "outputs": [],
   "source": [
    "def get_probabilities_from_counts(counts):\n",
    "    \"\"\"\n",
    "    Compute the probabilities of belonging to class 0 or 1 according to \n",
    "    the measurement results of a binary classifier.\n",
    "    \"\"\"\n",
    "    num_classes = 2\n",
    "    probs = []\n",
    "\n",
    "    # For each measurement results corresponding to a datapoint in the dataset\n",
    "    for dict_meas in counts:\n",
    "        # We count the number of times we observed 0 and 1 respectively\n",
    "        indiv_probs = np.zeros(num_classes)\n",
    "        indiv_probs[0] = dict_meas.get('0', 0)\n",
    "        indiv_probs[1] = dict_meas.get('1', 0)\n",
    "        # We translate the number of observation instances of 0 and 1 into probabilities\n",
    "        indiv_probs /= shots\n",
    "        probs.append(indiv_probs)\n",
    "\n",
    "    return np.round(probs, decimals=3)"
   ]
  },
  {
   "cell_type": "code",
   "execution_count": null,
   "metadata": {},
   "outputs": [],
   "source": [
    "probs = get_probabilities_from_counts(counts)\n",
    "probs"
   ]
  },
  {
   "cell_type": "code",
   "execution_count": null,
   "metadata": {},
   "outputs": [],
   "source": [
    "def get_accuracy(probs, targets):\n",
    "    \"\"\"\n",
    "    Compute the accuracy obtained by the binary classifier\n",
    "\n",
    "    :param probs:   The probability predicted by the classifier for each data vector to be\n",
    "                    in class 0 or 1.\n",
    "\n",
    "    :param targets: List of labels.\n",
    "\n",
    "    :return: classifier precision.\n",
    "    \"\"\"\n",
    "    # The predicted class correponds to the one with the highest probability\n",
    "    predict = np.argmax(probs, axis=1)\n",
    "    targets = np.array(targets).reshape(predict.shape)\n",
    "    # We count the number of times the prediction corresponds to the label and we divide\n",
    "    # by the total number of predictions.\n",
    "    accuracy = np.sum(predict == targets) / len(predict)\n",
    "    \n",
    "    return accuracy"
   ]
  },
  {
   "cell_type": "code",
   "execution_count": null,
   "metadata": {},
   "outputs": [],
   "source": [
    "accuracy = get_accuracy(probs, y)\n",
    "print(f'>\\n> The accuracy of our classifier is {accuracy*100}%.\\n>')"
   ]
  },
  {
   "cell_type": "code",
   "execution_count": null,
   "metadata": {},
   "outputs": [],
   "source": [
    "predict = np.argmax(probs, axis=1)\n",
    "plot_bloch_visualization([statevectors0, statevectors1], x=x, x0=x0, x1=x1, score=(predict==np.array(y).reshape(predict.shape)))"
   ]
  },
  {
   "cell_type": "markdown",
   "metadata": {},
   "source": [
    "The X points are those who have been misclassified.<br>\n",
    "Are you surprised?<br>\n",
    "How could we do better?\n"
   ]
  },
  {
   "cell_type": "markdown",
   "metadata": {},
   "source": [
    "## Measuring along the Y-axis\n",
    "\n",
    "To measure along the Y-axis, we proceed by applying $|\\psi'\\rangle = HS^\\dagger|\\psi\\rangle$ where the $S$ gate is a $\\phi = \\frac{\\pi}{2}$ rotation around the Z-axis."
   ]
  },
  {
   "cell_type": "code",
   "execution_count": null,
   "metadata": {},
   "outputs": [],
   "source": [
    "qc_ybasis = QuantumCircuit(1)\n",
    "qc_ybasis.sdg(0)\n",
    "qc_ybasis.h(0)\n",
    "\n",
    "qc_ybasis.draw('mpl')"
   ]
  },
  {
   "cell_type": "code",
   "execution_count": null,
   "metadata": {},
   "outputs": [],
   "source": [
    "counts = get_measurement_outcomes(x, qc, qc_ybasis)\n",
    "probs = get_probabilities_from_counts(counts)\n",
    "accuracy = get_accuracy(probs, y)\n",
    "print(f'>\\n> The accuracy of our classifier is {accuracy*100}%.\\n>')"
   ]
  },
  {
   "cell_type": "code",
   "execution_count": null,
   "metadata": {},
   "outputs": [],
   "source": [
    "predict = np.argmax(probs, axis=1)\n",
    "plot_bloch_visualization([statevectors0, statevectors1], x=x, x0=x0, x1=x1, score=(predict==np.array(y).reshape(predict.shape)))"
   ]
  },
  {
   "cell_type": "markdown",
   "metadata": {},
   "source": [
    "# Exercise 3: \n",
    " * Implement the angle embedding such that the rotations are performed about the Y-axis.\n",
    " * Implement the quantum circuit `qc_xbasis` which performs measurements in the X basis, by simply adding a $H$ gate.<br>\n",
    " Validate your results by making sure you obtain an accuracy of 100%!"
   ]
  },
  {
   "cell_type": "code",
   "execution_count": null,
   "metadata": {},
   "outputs": [],
   "source": [
    "def angle_embedding_ry(x_params, nb_features):\n",
    "    \"\"\"\n",
    "    Angle embedding using RY gates.\n",
    "\n",
    "    :param x_params: List of parameters to embed.\n",
    "    :param nb_features: Number of features in a data vector.\n",
    "\n",
    "    :return: The quantum circuit applying the angle embedding.\n",
    "    \"\"\"\n",
    "\n",
    "    ## Your code here!\n",
    "    qc = None\n",
    "\n",
    "    return qc "
   ]
  },
  {
   "cell_type": "code",
   "execution_count": null,
   "metadata": {},
   "outputs": [],
   "source": [
    "qc = angle_embedding_ry(x_params, 1)\n",
    "statevectors0 = get_statevector(qc, x0, x_params, sv_sim)\n",
    "statevectors1 = get_statevector(qc, x1, x_params, sv_sim)\n",
    "plot_bloch_visualization([statevectors0, statevectors1], ['b', 'r'])"
   ]
  },
  {
   "cell_type": "code",
   "execution_count": null,
   "metadata": {},
   "outputs": [],
   "source": [
    "## Your code here!\n",
    "\n",
    "qc_xbasis = None\n",
    "\n",
    "qc_xbasis.draw('mpl')"
   ]
  },
  {
   "cell_type": "code",
   "execution_count": null,
   "metadata": {},
   "outputs": [],
   "source": [
    "## Your code here!\n",
    "\n",
    "counts = None\n",
    "probs = None\n",
    "accuracy = None\n",
    "print(f'>\\n> The accuracy of our classifier is {accuracy*100}%.\\n>')"
   ]
  }
 ],
 "metadata": {
  "interpreter": {
   "hash": "be46e78d3dcbab919e7701c4870aab0f97ee500a54e0a329b7d84d45296915d8"
  },
  "kernelspec": {
   "display_name": "Python 3",
   "language": "python",
   "name": "python3"
  },
  "language_info": {
   "codemirror_mode": {
    "name": "ipython",
    "version": 3
   },
   "file_extension": ".py",
   "mimetype": "text/x-python",
   "name": "python",
   "nbconvert_exporter": "python",
   "pygments_lexer": "ipython3",
   "version": "3.8.5"
  },
  "widgets": {
   "application/vnd.jupyter.widget-state+json": {
    "state": {},
    "version_major": 2,
    "version_minor": 0
   }
  }
 },
 "nbformat": 4,
 "nbformat_minor": 4
}
