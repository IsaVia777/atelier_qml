{
 "cells": [
  {
   "cell_type": "code",
   "execution_count": null,
   "metadata": {},
   "outputs": [],
   "source": [
    "!pip install qiskit==1.4.2\n",
    "!pip install qiskit_aer\n",
    "!pip install qiskit_machine_learning\n",
    "!pip install qiskit_algorithms\n",
    "!pip install matplotlib\n",
    "!pip install pylatexenc\n",
    "!pip install scipy\n",
    "!pip install -U scikit-learn\n",
    "\n",
    "!git clone https://github.com/IsaVia777/atelier_qml.git"
   ]
  },
  {
   "cell_type": "markdown",
   "metadata": {},
   "source": [
    "# Lab 1: Intro to Quantum Circuits with Qiskit "
   ]
  },
  {
   "cell_type": "markdown",
   "metadata": {},
   "source": [
    "**Objectives:**\n",
    "-  Introduce the Iris dataset\n",
    "-  Visualize the application of gates on the Bloch sphere\n",
    "-  Build a quantum circuit with Qiskit\n",
    "-  Run an experiment on a backend and observe results"
   ]
  },
  {
   "cell_type": "code",
   "execution_count": null,
   "metadata": {},
   "outputs": [],
   "source": [
    "import numpy as np\n",
    "from math import pi\n",
    "import matplotlib.pyplot as plt\n",
    "from sklearn import datasets\n",
    "from sklearn.model_selection import train_test_split\n",
    "from qiskit import QuantumCircuit\n",
    "from qiskit_aer import AerSimulator, QasmSimulator\n",
    "from qiskit.visualization import plot_bloch_multivector, plot_histogram\n",
    "from qiskit.quantum_info import Statevector\n",
    "\n",
    "SEED = 8398"
   ]
  },
  {
   "cell_type": "code",
   "execution_count": null,
   "metadata": {},
   "outputs": [],
   "source": [
    "import sys\n",
    "sys.path.insert(0, '/content/atelier_qml')\n",
    "\n",
    "from utils import *"
   ]
  },
  {
   "cell_type": "markdown",
   "metadata": {},
   "source": [
    "You should be able to run the following cell if the utils file is in the same directory as this notebook."
   ]
  },
  {
   "cell_type": "code",
   "execution_count": null,
   "metadata": {},
   "outputs": [],
   "source": [
    "test_function()"
   ]
  },
  {
   "cell_type": "markdown",
   "metadata": {},
   "source": [
    "# Introducing the Iris dataset"
   ]
  },
  {
   "cell_type": "code",
   "execution_count": null,
   "metadata": {},
   "outputs": [],
   "source": [
    "# Load Iris dataset\n",
    "# Composed of 150 samples, 3 classes, 4 features\n",
    "iris = datasets.load_iris()\n",
    "\n",
    "nb_features = 4 #Defining this variable for later\n",
    "\n",
    "print('Feature vectors:\\n', iris['data'][44:55]) #Choosing 44:55 to see elements from both classes\n",
    "print('Targets:',iris['target'][45:55])"
   ]
  },
  {
   "cell_type": "code",
   "execution_count": null,
   "metadata": {},
   "outputs": [],
   "source": [
    "# Binary classification, we only keep classes 0 and 1\n",
    "nb_classes = 2 \n",
    "Y = iris.target[:100] \n",
    "X = np.array([x / np.linalg.norm(x) for x in iris.data[:100]]) #Normalizing the data \n",
    "\n",
    "\n",
    "for i in range(0, len(X), 15):\n",
    "    print(f'Vector: {X[i]} -- label: {Y[i]}')\n",
    "print(f'Dataset size: {len(X)}')"
   ]
  },
  {
   "cell_type": "code",
   "execution_count": null,
   "metadata": {},
   "outputs": [],
   "source": [
    "# Split dataset in train and test sets\n",
    "test_ratio = 0.2\n",
    "x_train, x_test, y_train, y_test = train_test_split(X, Y, test_size=test_ratio, random_state=SEED, stratify=Y)\n",
    "print(f'Size of the train set: {len(x_train)}\\nSize of the test set: {len(x_test)}')  "
   ]
  },
  {
   "cell_type": "code",
   "execution_count": null,
   "metadata": {},
   "outputs": [],
   "source": [
    "x_train[0]"
   ]
  },
  {
   "cell_type": "markdown",
   "metadata": {},
   "source": [
    "## Visualizing the effect of quantum gates with Qiskit"
   ]
  },
  {
   "cell_type": "markdown",
   "metadata": {},
   "source": [
    "### Visualization of a quantum state using the Bloch sphere representation"
   ]
  },
  {
   "cell_type": "code",
   "execution_count": null,
   "metadata": {},
   "outputs": [],
   "source": [
    "qc = QuantumCircuit(1)\n",
    "qc.draw('mpl')"
   ]
  },
  {
   "cell_type": "code",
   "execution_count": null,
   "metadata": {},
   "outputs": [],
   "source": [
    "def bloch_0():\n",
    "    '''\n",
    "    Quantum Circuit which creates the |0> state\n",
    "    '''\n",
    "    return qc\n",
    "\n",
    "state = Statevector.from_instruction(bloch_0()) #Returns the output statevector of an instruction(circuit)\n",
    "plot_bloch_multivector(state)"
   ]
  },
  {
   "cell_type": "markdown",
   "metadata": {},
   "source": [
    "### Performing a bit flip (X gate):"
   ]
  },
  {
   "cell_type": "code",
   "execution_count": null,
   "metadata": {},
   "outputs": [],
   "source": [
    "def bloch_x():\n",
    "    '''\n",
    "    Quantum Circuit which creates the |1> state\n",
    "    '''\n",
    "    qc = QuantumCircuit(1)\n",
    "    qc.x(0)\n",
    "    return qc\n",
    "\n",
    "bloch_x().draw('mpl')"
   ]
  },
  {
   "cell_type": "code",
   "execution_count": null,
   "metadata": {},
   "outputs": [],
   "source": [
    "state = Statevector.from_instruction(bloch_x())\n",
    "plot_bloch_multivector(state)"
   ]
  },
  {
   "cell_type": "markdown",
   "metadata": {},
   "source": [
    "### Superposition with the $H$ gate"
   ]
  },
  {
   "cell_type": "code",
   "execution_count": null,
   "metadata": {},
   "outputs": [],
   "source": [
    "def bloch_h():\n",
    "    '''\n",
    "    Quantum Circuit which creates the [sqrt(0.5)(|0> + |1>)] state\n",
    "    '''\n",
    "    qc = QuantumCircuit(1)\n",
    "    qc.h(0)\n",
    "    return qc\n",
    "\n",
    "bloch_h().draw('mpl')"
   ]
  },
  {
   "cell_type": "code",
   "execution_count": null,
   "metadata": {},
   "outputs": [],
   "source": [
    "state = Statevector.from_instruction(bloch_h())\n",
    "plot_bloch_multivector(state)"
   ]
  },
  {
   "cell_type": "code",
   "execution_count": null,
   "metadata": {},
   "outputs": [],
   "source": [
    "def bloch_xh():\n",
    "    '''\n",
    "    Quantum Circuit which creates the [sqrt(0.5)(|0> - |1>)] state\n",
    "    '''\n",
    "    qc = QuantumCircuit(1)\n",
    "    qc.x(0)\n",
    "    qc.h(0)\n",
    "    return qc\n",
    "\n",
    "bloch_xh().draw('mpl')"
   ]
  },
  {
   "cell_type": "code",
   "execution_count": null,
   "metadata": {},
   "outputs": [],
   "source": [
    "state = Statevector.from_instruction(bloch_xh())\n",
    "plot_bloch_multivector(state)"
   ]
  },
  {
   "cell_type": "markdown",
   "metadata": {},
   "source": [
    "### Observing phase change with the Z gate"
   ]
  },
  {
   "cell_type": "code",
   "execution_count": null,
   "metadata": {},
   "outputs": [],
   "source": [
    "def bloch_hz():\n",
    "    '''\n",
    "    Quantum Circuit which creates the [sqrt(0.5)(|0> - |1>)] state\n",
    "    '''\n",
    "    qc = QuantumCircuit(1)\n",
    "    qc.h(0)\n",
    "    qc.z(0)\n",
    "    return qc\n",
    "\n",
    "bloch_hz().draw('mpl')"
   ]
  },
  {
   "cell_type": "code",
   "execution_count": null,
   "metadata": {},
   "outputs": [],
   "source": [
    "state = Statevector.from_instruction(bloch_hz())\n",
    "plot_bloch_multivector(state)"
   ]
  },
  {
   "cell_type": "markdown",
   "metadata": {},
   "source": [
    "### Parametrized rotations ($RX$, $RY$, $RZ$)"
   ]
  },
  {
   "cell_type": "code",
   "execution_count": null,
   "metadata": {},
   "outputs": [],
   "source": [
    "def bloch_rx(angle):\n",
    "    \"\"\"\n",
    "    Circuit applying a rotation around the X-axis\n",
    "    \"\"\"\n",
    "    qc = QuantumCircuit(1)\n",
    "    qc.rx(angle, 0) \n",
    "    return qc\n",
    "\n",
    "def bloch_ry(angle):\n",
    "    \"\"\"\n",
    "    Circuit applying a rotation around the Y-axis\n",
    "    \"\"\"\n",
    "    qc = QuantumCircuit(1)\n",
    "    qc.ry(angle, 0) \n",
    "    return qc\n",
    "\n",
    "def bloch_rz(angle):\n",
    "    \"\"\"\n",
    "    Circuit applying a rotation around the Z-axis\n",
    "    \"\"\"\n",
    "    qc = QuantumCircuit(1)\n",
    "    qc.rz(angle, 0) \n",
    "    return qc\n",
    "\n",
    "\n",
    "bloch_rx(pi).draw('mpl')"
   ]
  },
  {
   "cell_type": "code",
   "execution_count": null,
   "metadata": {},
   "outputs": [],
   "source": [
    "# A rotation of PI around the X-axis is equivalent to applying the X gate:\n",
    "state = Statevector.from_instruction(bloch_rx(pi))\n",
    "plot_bloch_multivector(state)"
   ]
  },
  {
   "cell_type": "code",
   "execution_count": null,
   "metadata": {},
   "outputs": [],
   "source": [
    "# Try different angles for the RX, RY and RZ gates\n",
    "state = Statevector.from_instruction(bloch_ry(pi/5))\n",
    "plot_bloch_multivector(state)"
   ]
  },
  {
   "cell_type": "markdown",
   "metadata": {},
   "source": [
    "### 2-qubit gate $CX$: Example with the GHZ state"
   ]
  },
  {
   "cell_type": "code",
   "execution_count": null,
   "metadata": {},
   "outputs": [],
   "source": [
    "qc = QuantumCircuit(3) ##lien to circuit composer doc \n",
    "qc.h(0)\n",
    "qc.cx(0,1)\n",
    "qc.cx(1,2)\n",
    "qc.measure_all() \n",
    "qc.draw('mpl')"
   ]
  },
  {
   "cell_type": "markdown",
   "metadata": {},
   "source": [
    "Before the measurement, this circuit produces the following state: $|\\Psi\\rangle$ =  $\\frac{1}{\\sqrt{2}}|000\\rangle + \\frac{1}{\\sqrt{2}}|111\\rangle$. Once we measure, the state will collapse in either $|000\\rangle$ or $|111\\rangle$, with  $\\frac{1}{2}$ probability for each possibility."
   ]
  },
  {
   "cell_type": "markdown",
   "metadata": {},
   "source": [
    "## Running our circuit on a simulator"
   ]
  },
  {
   "cell_type": "code",
   "execution_count": null,
   "metadata": {},
   "outputs": [],
   "source": [
    "simulator = QasmSimulator()"
   ]
  },
  {
   "cell_type": "code",
   "execution_count": null,
   "metadata": {},
   "outputs": [],
   "source": [
    "result = simulator.run(qc, shots=1, seed_simulator=SEED).result()\n",
    "counts = result.get_counts()\n",
    "print(counts)\n",
    "\n",
    "plot_histogram(counts)"
   ]
  },
  {
   "cell_type": "markdown",
   "metadata": {},
   "source": [
    "Indeed,  a single shot doesn't tell us much. With a greater number of *shots*, we can have a nice probability distribution."
   ]
  },
  {
   "cell_type": "code",
   "execution_count": null,
   "metadata": {},
   "outputs": [],
   "source": [
    "result = simulator.run(qc, shots=1024, seed_simulator=SEED).result()\n",
    "counts = result.get_counts()\n",
    "print(counts)\n",
    "\n",
    "plot_histogram(counts)"
   ]
  },
  {
   "cell_type": "markdown",
   "metadata": {},
   "source": [
    "## Exercice 1\n",
    "Create the following circuit and run it on the 'qasm_simulator'"
   ]
  },
  {
   "cell_type": "markdown",
   "metadata": {},
   "source": [
    "![ex1.png](ex1.png)"
   ]
  },
  {
   "cell_type": "code",
   "execution_count": null,
   "metadata": {},
   "outputs": [],
   "source": [
    "##Your code here \n",
    "qc = None\n",
    "\n",
    "###\n",
    "qc.draw('mpl')"
   ]
  },
  {
   "cell_type": "markdown",
   "metadata": {},
   "source": [
    "Use the __qasm_sim__ as a backend, set the shots to __1000__ and don't forget to include the __seed__."
   ]
  },
  {
   "cell_type": "code",
   "execution_count": null,
   "metadata": {},
   "outputs": [],
   "source": [
    "##Run your circuit and plot the counts here##\n",
    "\n",
    "result = None\n",
    "counts = None\n",
    "###\n",
    "print(counts)\n",
    "plot_histogram(counts)"
   ]
  },
  {
   "cell_type": "markdown",
   "metadata": {},
   "source": [
    "**You should obtain the following result: {'010': 32, '011': 472, '100': 30, '101': 466}**"
   ]
  }
 ],
 "metadata": {
  "kernelspec": {
   "display_name": "qiskit2",
   "language": "python",
   "name": "python3"
  },
  "language_info": {
   "codemirror_mode": {
    "name": "ipython",
    "version": 3
   },
   "file_extension": ".py",
   "mimetype": "text/x-python",
   "name": "python",
   "nbconvert_exporter": "python",
   "pygments_lexer": "ipython3",
   "version": "3.12.4"
  },
  "widgets": {
   "application/vnd.jupyter.widget-state+json": {
    "state": {},
    "version_major": 2,
    "version_minor": 0
   }
  }
 },
 "nbformat": 4,
 "nbformat_minor": 4
}
